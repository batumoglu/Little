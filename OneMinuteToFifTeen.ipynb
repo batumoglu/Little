{
 "cells": [
  {
   "cell_type": "code",
   "execution_count": 1,
   "metadata": {},
   "outputs": [],
   "source": [
    "import pandas as pd\n",
    "import numpy as np\n",
    "import datetime"
   ]
  },
  {
   "cell_type": "code",
   "execution_count": 2,
   "metadata": {},
   "outputs": [
    {
     "data": {
      "text/html": [
       "<div>\n",
       "<style scoped>\n",
       "    .dataframe tbody tr th:only-of-type {\n",
       "        vertical-align: middle;\n",
       "    }\n",
       "\n",
       "    .dataframe tbody tr th {\n",
       "        vertical-align: top;\n",
       "    }\n",
       "\n",
       "    .dataframe thead th {\n",
       "        text-align: right;\n",
       "    }\n",
       "</style>\n",
       "<table border=\"1\" class=\"dataframe\">\n",
       "  <thead>\n",
       "    <tr style=\"text-align: right;\">\n",
       "      <th></th>\n",
       "      <th>VIP'VIP-X030</th>\n",
       "      <th>201907101208</th>\n",
       "      <th>0</th>\n",
       "      <th>000</th>\n",
       "      <th>0.1</th>\n",
       "      <th>000.1</th>\n",
       "      <th>0.2</th>\n",
       "      <th>000.2</th>\n",
       "      <th>0.3</th>\n",
       "      <th>000.3</th>\n",
       "      <th>0.4</th>\n",
       "      <th>0.5</th>\n",
       "      <th>1</th>\n",
       "    </tr>\n",
       "  </thead>\n",
       "  <tbody>\n",
       "    <tr>\n",
       "      <th>0</th>\n",
       "      <td>VIP'VIP-X030</td>\n",
       "      <td>201307121352</td>\n",
       "      <td>88</td>\n",
       "      <td>0</td>\n",
       "      <td>88</td>\n",
       "      <td>100</td>\n",
       "      <td>88</td>\n",
       "      <td>0</td>\n",
       "      <td>88</td>\n",
       "      <td>100</td>\n",
       "      <td>399</td>\n",
       "      <td>35152</td>\n",
       "      <td>1</td>\n",
       "    </tr>\n",
       "    <tr>\n",
       "      <th>1</th>\n",
       "      <td>VIP'VIP-X030</td>\n",
       "      <td>201307121353</td>\n",
       "      <td>88</td>\n",
       "      <td>25</td>\n",
       "      <td>88</td>\n",
       "      <td>100</td>\n",
       "      <td>88</td>\n",
       "      <td>0</td>\n",
       "      <td>88</td>\n",
       "      <td>100</td>\n",
       "      <td>175</td>\n",
       "      <td>15418</td>\n",
       "      <td>1</td>\n",
       "    </tr>\n",
       "    <tr>\n",
       "      <th>2</th>\n",
       "      <td>VIP'VIP-X030</td>\n",
       "      <td>201307121355</td>\n",
       "      <td>88</td>\n",
       "      <td>125</td>\n",
       "      <td>88</td>\n",
       "      <td>175</td>\n",
       "      <td>88</td>\n",
       "      <td>125</td>\n",
       "      <td>88</td>\n",
       "      <td>125</td>\n",
       "      <td>178</td>\n",
       "      <td>15686</td>\n",
       "      <td>1</td>\n",
       "    </tr>\n",
       "    <tr>\n",
       "      <th>3</th>\n",
       "      <td>VIP'VIP-X030</td>\n",
       "      <td>201307121356</td>\n",
       "      <td>88</td>\n",
       "      <td>150</td>\n",
       "      <td>88</td>\n",
       "      <td>200</td>\n",
       "      <td>88</td>\n",
       "      <td>100</td>\n",
       "      <td>88</td>\n",
       "      <td>175</td>\n",
       "      <td>357</td>\n",
       "      <td>31478</td>\n",
       "      <td>1</td>\n",
       "    </tr>\n",
       "    <tr>\n",
       "      <th>4</th>\n",
       "      <td>VIP'VIP-X030</td>\n",
       "      <td>201307121357</td>\n",
       "      <td>88</td>\n",
       "      <td>200</td>\n",
       "      <td>88</td>\n",
       "      <td>200</td>\n",
       "      <td>88</td>\n",
       "      <td>150</td>\n",
       "      <td>88</td>\n",
       "      <td>150</td>\n",
       "      <td>47</td>\n",
       "      <td>4143</td>\n",
       "      <td>1</td>\n",
       "    </tr>\n",
       "  </tbody>\n",
       "</table>\n",
       "</div>"
      ],
      "text/plain": [
       "   VIP'VIP-X030  201907101208   0  000  0.1  000.1  0.2  000.2  0.3  000.3  \\\n",
       "0  VIP'VIP-X030  201307121352  88    0   88    100   88      0   88    100   \n",
       "1  VIP'VIP-X030  201307121353  88   25   88    100   88      0   88    100   \n",
       "2  VIP'VIP-X030  201307121355  88  125   88    175   88    125   88    125   \n",
       "3  VIP'VIP-X030  201307121356  88  150   88    200   88    100   88    175   \n",
       "4  VIP'VIP-X030  201307121357  88  200   88    200   88    150   88    150   \n",
       "\n",
       "   0.4    0.5  1  \n",
       "0  399  35152  1  \n",
       "1  175  15418  1  \n",
       "2  178  15686  1  \n",
       "3  357  31478  1  \n",
       "4   47   4143  1  "
      ]
     },
     "execution_count": 2,
     "metadata": {},
     "output_type": "execute_result"
    }
   ],
   "source": [
    "data = pd.read_csv('VIP-X030_1.txt')\n",
    "data.head()"
   ]
  },
  {
   "cell_type": "code",
   "execution_count": 3,
   "metadata": {},
   "outputs": [
    {
     "data": {
      "text/plain": [
       "(719103, 13)"
      ]
     },
     "execution_count": 3,
     "metadata": {},
     "output_type": "execute_result"
    }
   ],
   "source": [
    "data.shape"
   ]
  },
  {
   "cell_type": "code",
   "execution_count": 4,
   "metadata": {},
   "outputs": [],
   "source": [
    "data.columns = ['Enstruman', 'DateTime', 'O1', 'O2', 'H1', 'H2',\n",
    "                'L1', 'L2', 'C1', 'C2', 'V1', 'V2', 'Forget']"
   ]
  },
  {
   "cell_type": "code",
   "execution_count": 5,
   "metadata": {},
   "outputs": [],
   "source": [
    "data['Open'] = data['O1']*1000 + data['O2']\n",
    "data['High'] = data['H1']*1000 + data['H2']\n",
    "data['Low'] = data['L1']*1000 + data['L2']\n",
    "data['Close'] = data['C1']*1000 + data['C2']\n",
    "data.drop(columns=['O1', 'O2', 'H1', 'H2', 'L1', 'L2', 'C1', 'C2', 'V2',\n",
    "                   'Forget'], inplace=True)"
   ]
  },
  {
   "cell_type": "code",
   "execution_count": 6,
   "metadata": {},
   "outputs": [
    {
     "data": {
      "text/html": [
       "<div>\n",
       "<style scoped>\n",
       "    .dataframe tbody tr th:only-of-type {\n",
       "        vertical-align: middle;\n",
       "    }\n",
       "\n",
       "    .dataframe tbody tr th {\n",
       "        vertical-align: top;\n",
       "    }\n",
       "\n",
       "    .dataframe thead th {\n",
       "        text-align: right;\n",
       "    }\n",
       "</style>\n",
       "<table border=\"1\" class=\"dataframe\">\n",
       "  <thead>\n",
       "    <tr style=\"text-align: right;\">\n",
       "      <th></th>\n",
       "      <th>DateTime</th>\n",
       "      <th>Volume</th>\n",
       "      <th>Open</th>\n",
       "      <th>High</th>\n",
       "      <th>Low</th>\n",
       "      <th>Close</th>\n",
       "      <th>Quarter</th>\n",
       "    </tr>\n",
       "  </thead>\n",
       "  <tbody>\n",
       "    <tr>\n",
       "      <th>0</th>\n",
       "      <td>201307121352</td>\n",
       "      <td>399</td>\n",
       "      <td>88000</td>\n",
       "      <td>88100</td>\n",
       "      <td>88000</td>\n",
       "      <td>88100</td>\n",
       "      <td>13420474756</td>\n",
       "    </tr>\n",
       "    <tr>\n",
       "      <th>1</th>\n",
       "      <td>201307121353</td>\n",
       "      <td>175</td>\n",
       "      <td>88025</td>\n",
       "      <td>88100</td>\n",
       "      <td>88000</td>\n",
       "      <td>88100</td>\n",
       "      <td>13420474756</td>\n",
       "    </tr>\n",
       "    <tr>\n",
       "      <th>2</th>\n",
       "      <td>201307121355</td>\n",
       "      <td>178</td>\n",
       "      <td>88125</td>\n",
       "      <td>88175</td>\n",
       "      <td>88125</td>\n",
       "      <td>88125</td>\n",
       "      <td>13420474757</td>\n",
       "    </tr>\n",
       "    <tr>\n",
       "      <th>3</th>\n",
       "      <td>201307121356</td>\n",
       "      <td>357</td>\n",
       "      <td>88150</td>\n",
       "      <td>88200</td>\n",
       "      <td>88100</td>\n",
       "      <td>88175</td>\n",
       "      <td>13420474757</td>\n",
       "    </tr>\n",
       "    <tr>\n",
       "      <th>4</th>\n",
       "      <td>201307121357</td>\n",
       "      <td>47</td>\n",
       "      <td>88200</td>\n",
       "      <td>88200</td>\n",
       "      <td>88150</td>\n",
       "      <td>88150</td>\n",
       "      <td>13420474757</td>\n",
       "    </tr>\n",
       "  </tbody>\n",
       "</table>\n",
       "</div>"
      ],
      "text/plain": [
       "       DateTime  Volume   Open   High    Low  Close      Quarter\n",
       "0  201307121352     399  88000  88100  88000  88100  13420474756\n",
       "1  201307121353     175  88025  88100  88000  88100  13420474756\n",
       "2  201307121355     178  88125  88175  88125  88125  13420474757\n",
       "3  201307121356     357  88150  88200  88100  88175  13420474757\n",
       "4  201307121357      47  88200  88200  88150  88150  13420474757"
      ]
     },
     "execution_count": 6,
     "metadata": {},
     "output_type": "execute_result"
    }
   ],
   "source": [
    "data.rename(columns={'V1':'Volume'}, inplace=True)\n",
    "data.drop('Enstruman', axis=1, inplace=True)\n",
    "data['Quarter'] = data['DateTime'].apply(lambda x: int(x/15))\n",
    "data.head()"
   ]
  },
  {
   "cell_type": "code",
   "execution_count": 7,
   "metadata": {
    "scrolled": true
   },
   "outputs": [],
   "source": [
    "idxOpen = data.groupby('Quarter')['DateTime'].idxmin()\n",
    "Opens = data.loc[idxOpen, 'Open'].reset_index()\n",
    "idxClose = data.groupby('Quarter')['DateTime'].idxmax()\n",
    "Closes = data.loc[idxClose, 'Close'].reset_index()"
   ]
  },
  {
   "cell_type": "code",
   "execution_count": 8,
   "metadata": {},
   "outputs": [],
   "source": [
    "dataAgg = data.groupby('Quarter').agg({'DateTime':np.min,\n",
    "                                       'Volume':np.sum,\n",
    "                                       'High': np.max,\n",
    "                                       'Low': np.min\n",
    "                                      })"
   ]
  },
  {
   "cell_type": "code",
   "execution_count": 9,
   "metadata": {
    "scrolled": true
   },
   "outputs": [],
   "source": [
    "dataAgg.reset_index(inplace=True)\n",
    "dataAgg['Open'] = Opens['Open']\n",
    "dataAgg['Close'] = Closes['Close']"
   ]
  },
  {
   "cell_type": "code",
   "execution_count": 10,
   "metadata": {},
   "outputs": [],
   "source": [
    "dataAgg['Date'] = dataAgg['DateTime'].apply(lambda x: int(x/10000))\n",
    "data2 = dataAgg[(dataAgg['DateTime']> 201900000000) & (dataAgg['DateTime'] <201903010000)]\n"
   ]
  },
  {
   "cell_type": "code",
   "execution_count": 11,
   "metadata": {},
   "outputs": [
    {
     "name": "stdout",
     "output_type": "stream",
     "text": [
      "0\n",
      "0\n",
      "0\n",
      "0\n"
     ]
    }
   ],
   "source": [
    "# EVerything is ok\n",
    "print(data2[data2['High'] < data2['Close']]['Volume'].sum())\n",
    "print(data2[data2['High'] < data2['Open']]['Volume'].sum())\n",
    "print(data2[data2['Low'] > data2['Close']]['Volume'].sum())\n",
    "print(data2[data2['Low'] > data2['Open']]['Volume'].sum())"
   ]
  },
  {
   "cell_type": "code",
   "execution_count": 12,
   "metadata": {
    "scrolled": true
   },
   "outputs": [
    {
     "name": "stderr",
     "output_type": "stream",
     "text": [
      "C:\\Users\\batum\\AppData\\Local\\Continuum\\anaconda3\\lib\\site-packages\\pandas\\core\\indexing.py:543: SettingWithCopyWarning: \n",
      "A value is trying to be set on a copy of a slice from a DataFrame.\n",
      "Try using .loc[row_indexer,col_indexer] = value instead\n",
      "\n",
      "See the caveats in the documentation: http://pandas.pydata.org/pandas-docs/stable/indexing.html#indexing-view-versus-copy\n",
      "  self.obj[item] = s\n"
     ]
    },
    {
     "data": {
      "text/html": [
       "<div>\n",
       "<style scoped>\n",
       "    .dataframe tbody tr th:only-of-type {\n",
       "        vertical-align: middle;\n",
       "    }\n",
       "\n",
       "    .dataframe tbody tr th {\n",
       "        vertical-align: top;\n",
       "    }\n",
       "\n",
       "    .dataframe thead th {\n",
       "        text-align: right;\n",
       "    }\n",
       "</style>\n",
       "<table border=\"1\" class=\"dataframe\">\n",
       "  <thead>\n",
       "    <tr style=\"text-align: right;\">\n",
       "      <th></th>\n",
       "      <th>Quarter</th>\n",
       "      <th>DateTime</th>\n",
       "      <th>Volume</th>\n",
       "      <th>High</th>\n",
       "      <th>Low</th>\n",
       "      <th>Open</th>\n",
       "      <th>Close</th>\n",
       "      <th>Date</th>\n",
       "    </tr>\n",
       "  </thead>\n",
       "  <tbody>\n",
       "    <tr>\n",
       "      <th>52163</th>\n",
       "      <td>13460068062</td>\n",
       "      <td>2019-01-02 09:30:00</td>\n",
       "      <td>5768</td>\n",
       "      <td>117700</td>\n",
       "      <td>117300</td>\n",
       "      <td>117700</td>\n",
       "      <td>117450</td>\n",
       "      <td>20190102</td>\n",
       "    </tr>\n",
       "    <tr>\n",
       "      <th>52164</th>\n",
       "      <td>13460068063</td>\n",
       "      <td>2019-01-02 09:45:00</td>\n",
       "      <td>2947</td>\n",
       "      <td>117575</td>\n",
       "      <td>117425</td>\n",
       "      <td>117450</td>\n",
       "      <td>117525</td>\n",
       "      <td>20190102</td>\n",
       "    </tr>\n",
       "    <tr>\n",
       "      <th>52165</th>\n",
       "      <td>13460068066</td>\n",
       "      <td>2019-01-02 10:00:00</td>\n",
       "      <td>3351</td>\n",
       "      <td>117675</td>\n",
       "      <td>117500</td>\n",
       "      <td>117525</td>\n",
       "      <td>117600</td>\n",
       "      <td>20190102</td>\n",
       "    </tr>\n",
       "    <tr>\n",
       "      <th>52166</th>\n",
       "      <td>13460068067</td>\n",
       "      <td>2019-01-02 10:05:00</td>\n",
       "      <td>4993</td>\n",
       "      <td>117650</td>\n",
       "      <td>117400</td>\n",
       "      <td>117600</td>\n",
       "      <td>117400</td>\n",
       "      <td>20190102</td>\n",
       "    </tr>\n",
       "    <tr>\n",
       "      <th>52167</th>\n",
       "      <td>13460068068</td>\n",
       "      <td>2019-01-02 10:20:00</td>\n",
       "      <td>6184</td>\n",
       "      <td>117450</td>\n",
       "      <td>117200</td>\n",
       "      <td>117450</td>\n",
       "      <td>117400</td>\n",
       "      <td>20190102</td>\n",
       "    </tr>\n",
       "  </tbody>\n",
       "</table>\n",
       "</div>"
      ],
      "text/plain": [
       "           Quarter            DateTime  Volume    High     Low    Open  \\\n",
       "52163  13460068062 2019-01-02 09:30:00    5768  117700  117300  117700   \n",
       "52164  13460068063 2019-01-02 09:45:00    2947  117575  117425  117450   \n",
       "52165  13460068066 2019-01-02 10:00:00    3351  117675  117500  117525   \n",
       "52166  13460068067 2019-01-02 10:05:00    4993  117650  117400  117600   \n",
       "52167  13460068068 2019-01-02 10:20:00    6184  117450  117200  117450   \n",
       "\n",
       "        Close      Date  \n",
       "52163  117450  20190102  \n",
       "52164  117525  20190102  \n",
       "52165  117600  20190102  \n",
       "52166  117400  20190102  \n",
       "52167  117400  20190102  "
      ]
     },
     "execution_count": 12,
     "metadata": {},
     "output_type": "execute_result"
    }
   ],
   "source": [
    "data2['DateTime'].apply(lambda x: str(x))\n",
    "data2.loc[:,'DateTime'] = pd.to_datetime(data2['DateTime'], format='%Y%m%d%H%M' )\n",
    "data2.head()"
   ]
  },
  {
   "cell_type": "code",
   "execution_count": 13,
   "metadata": {
    "scrolled": true
   },
   "outputs": [
    {
     "name": "stderr",
     "output_type": "stream",
     "text": [
      "C:\\Users\\batum\\AppData\\Local\\Continuum\\anaconda3\\lib\\site-packages\\pandas\\core\\indexing.py:362: SettingWithCopyWarning: \n",
      "A value is trying to be set on a copy of a slice from a DataFrame.\n",
      "Try using .loc[row_indexer,col_indexer] = value instead\n",
      "\n",
      "See the caveats in the documentation: http://pandas.pydata.org/pandas-docs/stable/indexing.html#indexing-view-versus-copy\n",
      "  self.obj[key] = _infer_fill_value(value)\n"
     ]
    }
   ],
   "source": [
    "import datetime\n",
    "data2.loc[:,'Date'] = data2['DateTime'].dt.date\n",
    "data2.loc[:,'Time'] = data2['DateTime'].dt.time"
   ]
  },
  {
   "cell_type": "code",
   "execution_count": 14,
   "metadata": {
    "scrolled": true
   },
   "outputs": [],
   "source": [
    "data2.loc[:,'High'] = data2['High'] / 1000\n",
    "data2.loc[:,'Open'] = data2['Open'] / 1000\n",
    "data2.loc[:,'Low'] = data2['Low'] / 1000\n",
    "data2.loc[:,'Close'] = data2['Close'] / 1000"
   ]
  },
  {
   "cell_type": "code",
   "execution_count": 15,
   "metadata": {},
   "outputs": [
    {
     "data": {
      "text/plain": [
       "(1751, 9)"
      ]
     },
     "execution_count": 15,
     "metadata": {},
     "output_type": "execute_result"
    }
   ],
   "source": [
    "data2.shape"
   ]
  },
  {
   "cell_type": "code",
   "execution_count": 16,
   "metadata": {},
   "outputs": [
    {
     "name": "stderr",
     "output_type": "stream",
     "text": [
      "C:\\Users\\batum\\AppData\\Local\\Continuum\\anaconda3\\lib\\site-packages\\pandas\\core\\frame.py:3940: SettingWithCopyWarning: \n",
      "A value is trying to be set on a copy of a slice from a DataFrame\n",
      "\n",
      "See the caveats in the documentation: http://pandas.pydata.org/pandas-docs/stable/indexing.html#indexing-view-versus-copy\n",
      "  errors=errors)\n"
     ]
    }
   ],
   "source": [
    "data2.drop(columns=['Quarter', 'DateTime'], inplace=True)"
   ]
  },
  {
   "cell_type": "code",
   "execution_count": 17,
   "metadata": {},
   "outputs": [
    {
     "data": {
      "text/html": [
       "<div>\n",
       "<style scoped>\n",
       "    .dataframe tbody tr th:only-of-type {\n",
       "        vertical-align: middle;\n",
       "    }\n",
       "\n",
       "    .dataframe tbody tr th {\n",
       "        vertical-align: top;\n",
       "    }\n",
       "\n",
       "    .dataframe thead th {\n",
       "        text-align: right;\n",
       "    }\n",
       "</style>\n",
       "<table border=\"1\" class=\"dataframe\">\n",
       "  <thead>\n",
       "    <tr style=\"text-align: right;\">\n",
       "      <th></th>\n",
       "      <th>Date</th>\n",
       "      <th>Time</th>\n",
       "      <th>Open</th>\n",
       "      <th>High</th>\n",
       "      <th>Low</th>\n",
       "      <th>Close</th>\n",
       "      <th>Volume</th>\n",
       "    </tr>\n",
       "  </thead>\n",
       "  <tbody>\n",
       "    <tr>\n",
       "      <th>52163</th>\n",
       "      <td>2019-01-02</td>\n",
       "      <td>09:30:00</td>\n",
       "      <td>117.700</td>\n",
       "      <td>117.700</td>\n",
       "      <td>117.300</td>\n",
       "      <td>117.450</td>\n",
       "      <td>5768</td>\n",
       "    </tr>\n",
       "    <tr>\n",
       "      <th>52164</th>\n",
       "      <td>2019-01-02</td>\n",
       "      <td>09:45:00</td>\n",
       "      <td>117.450</td>\n",
       "      <td>117.575</td>\n",
       "      <td>117.425</td>\n",
       "      <td>117.525</td>\n",
       "      <td>2947</td>\n",
       "    </tr>\n",
       "    <tr>\n",
       "      <th>52165</th>\n",
       "      <td>2019-01-02</td>\n",
       "      <td>10:00:00</td>\n",
       "      <td>117.525</td>\n",
       "      <td>117.675</td>\n",
       "      <td>117.500</td>\n",
       "      <td>117.600</td>\n",
       "      <td>3351</td>\n",
       "    </tr>\n",
       "    <tr>\n",
       "      <th>52166</th>\n",
       "      <td>2019-01-02</td>\n",
       "      <td>10:05:00</td>\n",
       "      <td>117.600</td>\n",
       "      <td>117.650</td>\n",
       "      <td>117.400</td>\n",
       "      <td>117.400</td>\n",
       "      <td>4993</td>\n",
       "    </tr>\n",
       "    <tr>\n",
       "      <th>52167</th>\n",
       "      <td>2019-01-02</td>\n",
       "      <td>10:20:00</td>\n",
       "      <td>117.450</td>\n",
       "      <td>117.450</td>\n",
       "      <td>117.200</td>\n",
       "      <td>117.400</td>\n",
       "      <td>6184</td>\n",
       "    </tr>\n",
       "  </tbody>\n",
       "</table>\n",
       "</div>"
      ],
      "text/plain": [
       "             Date      Time     Open     High      Low    Close  Volume\n",
       "52163  2019-01-02  09:30:00  117.700  117.700  117.300  117.450    5768\n",
       "52164  2019-01-02  09:45:00  117.450  117.575  117.425  117.525    2947\n",
       "52165  2019-01-02  10:00:00  117.525  117.675  117.500  117.600    3351\n",
       "52166  2019-01-02  10:05:00  117.600  117.650  117.400  117.400    4993\n",
       "52167  2019-01-02  10:20:00  117.450  117.450  117.200  117.400    6184"
      ]
     },
     "execution_count": 17,
     "metadata": {},
     "output_type": "execute_result"
    }
   ],
   "source": [
    "data2 = data2[['Date', 'Time', 'Open', 'High', 'Low', 'Close', 'Volume']]\n",
    "data2.head()"
   ]
  },
  {
   "cell_type": "code",
   "execution_count": 18,
   "metadata": {},
   "outputs": [],
   "source": [
    "#data2.to_csv('VIOP.csv')"
   ]
  }
 ],
 "metadata": {
  "kernelspec": {
   "display_name": "Python 3",
   "language": "python",
   "name": "python3"
  },
  "language_info": {
   "codemirror_mode": {
    "name": "ipython",
    "version": 3
   },
   "file_extension": ".py",
   "mimetype": "text/x-python",
   "name": "python",
   "nbconvert_exporter": "python",
   "pygments_lexer": "ipython3",
   "version": "3.7.3"
  }
 },
 "nbformat": 4,
 "nbformat_minor": 2
}
